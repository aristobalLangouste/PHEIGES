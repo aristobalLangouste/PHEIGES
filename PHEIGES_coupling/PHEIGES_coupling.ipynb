{
 "cells": [
  {
   "cell_type": "markdown",
   "metadata": {},
   "source": [
    "### Antoine Levrier\n",
    "*PHEIGES, all-cell-free phage synthesis and selection from engineered genomes*"
   ]
  },
  {
   "cell_type": "markdown",
   "metadata": {},
   "source": [
    "# Importing necessary libraries"
   ]
  },
  {
   "cell_type": "code",
   "execution_count": 2,
   "metadata": {},
   "outputs": [],
   "source": [
    "#website for propagation of uncertainties : https://pythonhosted.org/uncertainties/numpy_guide.html\n",
    "from uncertainties import ufloat\n",
    "from uncertainties.umath import *\n",
    "from uncertainties import unumpy\n",
    "import matplotlib.pyplot as plt\n",
    "import pandas as pd\n",
    "import numpy as np\n",
    "import statistics\n",
    "plt.rcParams['figure.dpi'] = 100                                                                                                                                                                                                                                                                                                                                                                                                                        \n",
    "plt.rcParams[\"image.cmap\"] = \"jet\"\n",
    "plt.rcParams['font.sans-serif'] = 'Arial'\n",
    "plt.rcParams['axes.prop_cycle'] = plt.cycler(color=['dimgrey', 'red', 'chocolate', 'darkorange', 'gold', 'olive', 'darkolivegreen', 'forestgreen', 'turquoise', 'darkslategray', 'lightblue', 'dodgerblue', 'slategray', 'navy', 'mediumpurple', 'indigo', 'thistle', 'fuchsia', 'hotpink', 'lightpink'])"
   ]
  },
  {
   "cell_type": "markdown",
   "metadata": {},
   "source": [
    "# Fig. 4.e : Dilution of a mutant in a wt genome experiment"
   ]
  },
  {
   "cell_type": "markdown",
   "metadata": {},
   "source": [
    "### recording experimental plaque count and the experimental error estimation."
   ]
  },
  {
   "cell_type": "markdown",
   "metadata": {},
   "source": [
    "### Plaque counts, errors estimation and PFU calculation."
   ]
  },
  {
   "cell_type": "code",
   "execution_count": 10,
   "metadata": {},
   "outputs": [],
   "source": [
    "#WT only\n",
    "WT1= ufloat(7, 1)\n",
    "WT2= ufloat(5, 2)\n",
    "WT3= ufloat(7, 1)\n",
    "WTm=(WT1+WT2+WT3)/3\n",
    "#print(WTm)\n",
    "pfuWTm=WTm*1E6*1000/4\n",
    "#print(pfuWTm.n, pfuWTm.s, '\\n')\n",
    "\n",
    "\n",
    "CWT1= ufloat(9, 4)\n",
    "CWT2= ufloat(8, 4)\n",
    "CWT3= ufloat(8, 4)\n",
    "CWTm=(CWT1+CWT2+CWT3)/3\n",
    "#print(CWTm)\n",
    "pfuCWTm=CWTm*1E2*1000/4*4.605\n",
    "#print(pfuCWTm)"
   ]
  },
  {
   "cell_type": "code",
   "execution_count": 4,
   "metadata": {},
   "outputs": [],
   "source": [
    "#WT:C DNA ratio 1:1\n",
    "BC1= ufloat(1, 1)\n",
    "BC2= ufloat(3, 1)\n",
    "BC3= ufloat(3, 1)\n",
    "BCm=(BC1+BC2+BC3)/3\n",
    "#print(BCm)\n",
    "pfuBCm=BCm*1E6*1000/4\n",
    "#print(pfuBCm.n, pfuBCm.s, '\\n')\n",
    "\n",
    "\n",
    "CC1= ufloat(1, 1)\n",
    "CC2= ufloat(1, 1)\n",
    "CC3= ufloat(4, 1)\n",
    "CCm=(CC1+CC2+CC3)/3\n",
    "#print(CCm)\n",
    "pfuCCm=CCm*1E5*(1000/4)*4.605\n",
    "#print(pfuCCm.n, pfuCCm.s)"
   ]
  },
  {
   "cell_type": "code",
   "execution_count": 6,
   "metadata": {},
   "outputs": [],
   "source": [
    "#EOP calculation\n",
    "EOP=583333333.3333334/(50000000.0*2)\n",
    "#print(EOP)"
   ]
  },
  {
   "cell_type": "code",
   "execution_count": 7,
   "metadata": {},
   "outputs": [],
   "source": [
    "#WT:C DNA ratio 10:1\n",
    "BC1= ufloat(1, 1)\n",
    "BC2= ufloat(2, 1)\n",
    "BC3= ufloat(1, 1)\n",
    "BCm=(BC1+BC2+BC3)/3\n",
    "#print(BCm)\n",
    "pfuBCm=BCm*1E6*1000/4\n",
    "#print(pfuBCm.n, pfuBCm.s,'\\n')\n",
    "\n",
    "\n",
    "CC1= ufloat(6, 2)\n",
    "CC2= ufloat(4, 1)\n",
    "CC3= ufloat(4, 1)\n",
    "CCm=(CC1+CC2+CC3)/3\n",
    "#print(CCm)\n",
    "pfuCCm=CCm*1E4*1000/4*4.605\n",
    "#print(pfuCCm.n, pfuCCm.s)"
   ]
  },
  {
   "cell_type": "code",
   "execution_count": 8,
   "metadata": {},
   "outputs": [],
   "source": [
    "#WT:C DNA ratio 100:1\n",
    "BC1= ufloat(2, 2)\n",
    "BC2= ufloat(4, 1)\n",
    "BC3= ufloat(1, 2)\n",
    "BCm=(BC1+BC2+BC3)/3\n",
    "#print(BCm)\n",
    "pfuBCm=BCm*1E6*1000/4\n",
    "#print(pfuBCm.n, pfuBCm.s,'\\n')\n",
    "\n",
    "\n",
    "CC1= ufloat(4, 2)\n",
    "CC2= ufloat(7, 2)\n",
    "CC3= ufloat(14, 2)\n",
    "CCm=(CC1+CC2+CC3)/3\n",
    "#print(CCm)\n",
    "pfuCCm=CCm*1E3*1000/4*4.605\n",
    "#print(pfuCCm.n, pfuCCm.s)"
   ]
  },
  {
   "cell_type": "code",
   "execution_count": 9,
   "metadata": {},
   "outputs": [],
   "source": [
    "#WT:C DNA ratio 1000:1\n",
    "BC1= ufloat(3, 2)\n",
    "BC2= ufloat(7, 2)\n",
    "BC3= ufloat(7, 2)\n",
    "BCm=(BC1+BC2+BC3)/3\n",
    "#print(BCm)\n",
    "pfuBCm=BCm*1E6*1000/4\n",
    "#print(pfuBCm.n, pfuBCm.s, '\\n')\n",
    "\n",
    "\n",
    "CC1= ufloat(5, 3)\n",
    "CC2= ufloat(4, 3)\n",
    "CC3= ufloat(1.7, 3)\n",
    "CCm=(CC1+CC2+CC3)/3\n",
    "#print(CCm)\n",
    "pfuCCm=CCm*1E3*1000/4*4.605\n",
    "#print(pfuCCm.n, pfuCCm.s)"
   ]
  },
  {
   "cell_type": "code",
   "execution_count": 11,
   "metadata": {},
   "outputs": [],
   "source": [
    "#WT:C DNA ratio 10000:1\n",
    "BC1= ufloat(2, 1)\n",
    "BC2= ufloat(3, 1)\n",
    "BC3= ufloat(1, 1)\n",
    "BCm=(BC1+BC2+BC3)/3\n",
    "#print(BCm)\n",
    "pfuBCm=BCm*1E7*1000/4\n",
    "#print(pfuBCm.n, pfuBCm.s, '\\n')\n",
    "\n",
    "\n",
    "CC1= ufloat(18, 10)\n",
    "CC2= ufloat(17, 10)\n",
    "CC3= ufloat(16, 10)\n",
    "CCm=(CC1+CC2+CC3)/3\n",
    "#print(CCm)\n",
    "pfuCCm=CCm*1E2*1000/4*4.605\n",
    "#print(pfuCCm.n, pfuCCm.s)"
   ]
  },
  {
   "cell_type": "code",
   "execution_count": 12,
   "metadata": {},
   "outputs": [],
   "source": [
    "#reporting all the values obtained above in lists [[pfu],[error]] on E. coli B and rfaC.\n",
    "#order is WT only\tWT:M 1:1\tWT:M 10:1\tWT:M 100:1\tWT:M 1000:1\tWT:M 10000:1\tWT:M 100000:1\tWT:M 1000000:1\n",
    "\n",
    "coliB=unumpy.uarray([1583333333.3333333, 583333333.3333334, 333333333.3333333, 583333333.3333334, 1416666666.6666667, 5000000000.0], [204124145.2319315, 144337567.29740644, 144337567.29740644, 250000000.0, 288675134.59481287, 1443375672.9740644]) \n",
    "rfaC=unumpy.uarray([959375.0000000001, 230250000.00000003, 53725000.00000001, 9593750.000000002, 4106125.0, 1957125.0000000002], [265869.79896182264, 66467449.740455665, 9399916.887930445, 1329348.9948091132, 1994023.49221367, 664674.4974045566])\n",
    "\n",
    "#print(coliB)\n",
    "#print(rfaC)"
   ]
  },
  {
   "cell_type": "code",
   "execution_count": 14,
   "metadata": {},
   "outputs": [],
   "source": [
    "#retrieving to all titers the spontaneous variants obtained when WT only spotted on rfaC.\n",
    "rfaC_noWT=rfaC-rfaC[0]\n",
    "#print(rfaC_noWT)\n",
    "\n",
    "#WT-->coliB\n",
    "WT = coliB\n",
    "#print(WT)\n",
    "\n",
    "#calculing the ratio for each dilution of PFU on rfaC versus on E.coli B\n",
    "ratio_mut=rfaC_noWT/WT\n",
    "\n",
    "#compile these ratio in a list\n",
    "ratio_L=[ratio_mut[x] for x in range(6)]\n",
    "#print(ratio_L)\n",
    "\n",
    "#separate the ratio and it's error in two lists\n",
    "ratio_val=[ratio_L[x].n for x in range(1, 6)]\n",
    "#print(ratio_val)\n",
    "ratio_std=[ratio_L[x].s for x in range(1, 6)]\n",
    "#print(ratio_std)"
   ]
  },
  {
   "cell_type": "code",
   "execution_count": 16,
   "metadata": {},
   "outputs": [
    {
     "data": {
      "image/png": "[encoded data removed]",
      "text/plain": [
       "<Figure size 1000x600 with 1 Axes>"
      ]
     },
     "metadata": {
      "needs_background": "light"
     },
     "output_type": "display_data"
    }
   ],
   "source": [
    "#Plot the experimental ratios obtained and the other theoretical ratio from hypothesis H0, H1 and H2.\n",
    "\n",
    "fig, ax1 = plt.subplots(figsize=(10, 6))\n",
    "\n",
    "#defining hypothesis H0, H1 and H2\n",
    "probaH0 = lambda a : (1-(1-a)**18)*a\n",
    "probaH2 = lambda a : (1-(1-a**4)**6)*a\n",
    "probaH1 = lambda a : (1-(1-a)**6)*a\n",
    "\n",
    "dilution=np.geomspace(1, 1E-4, num=5)\n",
    "dilution[0]=0.5\n",
    "dilution2=np.geomspace(1, 5E-5, num=500)\n",
    "\n",
    "plt.errorbar(dilution, ratio_val, yerr=ratio_std, fmt=\"o\", markersize=8, capsize=5, label='Measured ratio')\n",
    "plt.plot(dilution2, dilution2, label='100% linkage')\n",
    "plt.plot(dilution2, probaH0(dilution2), label='H0', color='blue')\n",
    "plt.plot(dilution2, probaH1(dilution2), label='H1', color='green')\n",
    "plt.plot(dilution2, probaH2(dilution2), label='H2', color='black')\n",
    "\n",
    "ax1.set_yscale('log')\n",
    "ax1.set_xscale('log')\n",
    "ax1.set_xlim([1, 5E-5])\n",
    "\n",
    "ax1.set_xlabel('Mutant tail fiber DNA dilution factor', fontsize=20, fontweight ='bold')\n",
    "ax1.tick_params(axis='x', labelsize=18)\n",
    "ax1.tick_params(axis='y', labelsize=18)\n",
    "ax1.set_ylabel('Ratio ReLPS infectious phages', fontsize=20, fontweight ='bold')\n",
    "plt.legend(fontsize=17, frameon=False, loc ='lower left')\n",
    "\n",
    "#plt.savefig('dilution of mutant in wt.png')\n",
    "#plt.savefig('dilution of mutant in wt.svg', format='svg')\n",
    "plt.show()"
   ]
  },
  {
   "cell_type": "markdown",
   "metadata": {},
   "source": [
    "# Fig. 4.d : calculation for experimental data"
   ]
  },
  {
   "cell_type": "markdown",
   "metadata": {},
   "source": [
    "### Recording data for the three steps: TXTL / EJECTION / AMPLIFICATION EXP"
   ]
  },
  {
   "cell_type": "markdown",
   "metadata": {},
   "source": [
    "### TXTL"
   ]
  },
  {
   "cell_type": "code",
   "execution_count": 26,
   "metadata": {},
   "outputs": [],
   "source": [
    "#TXTL wt/WT\n",
    "WT1= ufloat(2, 0)\n",
    "WT2= ufloat(1, 0)\n",
    "WT3= ufloat(4, 2)\n",
    "WTm=(WT1+WT2+WT3)/3\n",
    "#print(WTm)\n",
    "#TBWT = TXTL expression of wt/WT spotted on E.coliB\n",
    "TBWT=WTm*1E6*1000/4\n",
    "#TBWT = Titer coliB WT phages\n",
    "#print(TBWT,'\\n')\n",
    "\n",
    "\n",
    "CWT1= ufloat(0, 0)\n",
    "CWT2= ufloat(0, 0)\n",
    "CWT3= ufloat(0, 0)\n",
    "CWTm=(CWT1+CWT2+CWT3)/3\n",
    "#print(CWTm)\n",
    "#TCWT = TXTL expression of wt/WT spotted on rfaC\n",
    "TCWT=CWTm*1E2*1000/4\n",
    "#print(TCWT)"
   ]
  },
  {
   "cell_type": "code",
   "execution_count": 68,
   "metadata": {},
   "outputs": [
    {
     "name": "stdout",
     "output_type": "stream",
     "text": [
      "EOP is  0.18+/-0.04\n"
     ]
    }
   ],
   "source": [
    "#TXTL mut/MUT\n",
    "WT1= ufloat(14, 4)\n",
    "WT2= ufloat(14, 5)\n",
    "WT3= ufloat(10, 2)\n",
    "WTm=(WT1+WT2+WT3)/3\n",
    "#print(WTm)\n",
    "#TBM = Titer coli B mut/Mut phages phages\n",
    "TBM=WTm*1E5*1000/4\n",
    "#print(TBM,'\\n')\n",
    "\n",
    "\n",
    "CWT1= ufloat(23, 5)\n",
    "CWT2= ufloat(21, 5)\n",
    "CWT3= ufloat(25, 5)\n",
    "CWTm=(CWT1+CWT2+CWT3)/3\n",
    "#print(CWTm)\n",
    "#TCM = Titer rfaC mut/Mut phages phages\n",
    "TCM=CWTm*1E4*1000/4\n",
    "#print(TCM, '\\n')\n",
    "\n",
    "EOP1= TBM/TCM\n",
    "print('EOP is ', 1/EOP1)"
   ]
  },
  {
   "cell_type": "code",
   "execution_count": 28,
   "metadata": {},
   "outputs": [],
   "source": [
    "#TXTL C-E (co-expression)\n",
    "WT1= ufloat(3, 1)\n",
    "WT2= ufloat(3, 1)\n",
    "WT3= ufloat(3, 1)\n",
    "WTm=(WT1+WT2+WT3)/3\n",
    "#print(WTm)\n",
    "#TBCE = Titer coli B Co-Expression phages phages\n",
    "TBCE=WTm*1E6*1000/4\n",
    "#print(TBCE,'\\n')\n",
    "\n",
    "\n",
    "CWT1= ufloat(2, 1)\n",
    "CWT2= ufloat(3, 1)\n",
    "CWT3= ufloat(3, 1)\n",
    "CWTm=(CWT1+CWT2+CWT3)/3\n",
    "#print(CWTm)\n",
    "#TCCE = Titer rfaC Co-Expression phages phages weighted by EOP\n",
    "TCCE=CWTm*1E5*1000/4*EOP1\n",
    "#print(TCCE)"
   ]
  },
  {
   "cell_type": "code",
   "execution_count": 29,
   "metadata": {},
   "outputs": [],
   "source": [
    "#TXTL E-V (equivolume)\n",
    "WT1= ufloat(3, 1)\n",
    "WT2= ufloat(2, 1)\n",
    "WT3= ufloat(2, 1)\n",
    "WTm=(WT1+WT2+WT3)/3\n",
    "#print(WTm)\n",
    "#TBEV = Titer coliB Equi-Volume phages phages\n",
    "TBEV=WTm*1E6*1000/4\n",
    "#print(TBEV,'\\n')\n",
    "\n",
    "\n",
    "CWT1= ufloat(4, 1)\n",
    "CWT2= ufloat(1, 0.5)\n",
    "CWT3= ufloat(1, 1)\n",
    "CWTm=(CWT1+CWT2+CWT3)/3\n",
    "#print(CWTm)\n",
    "#TCEV = Titer rfaC Equi-Volume phages phages weighted by EOP\n",
    "TCEV=CWTm*1E5*1000/4*EOP1\n",
    "#print(TCEV)"
   ]
  },
  {
   "cell_type": "code",
   "execution_count": 57,
   "metadata": {},
   "outputs": [
    {
     "name": "stdout",
     "output_type": "stream",
     "text": [
      "0.49+/-0.18\n",
      "0.51+/-0.18\n"
     ]
    }
   ],
   "source": [
    "#calculate the total amount [mutMut + Mut/Mix] for co-expression (MMPMCE), co-volume (MMPMEV).\n",
    "#deduce the total amount [wtWT + WT/Mix] (WTWT + PWT)\n",
    "MMPMCE=(TCCE/TBCE)\n",
    "print(MMPMCE)\n",
    "\n",
    "MMPMEV=(TCEV/TBEV)\n",
    "#print(MMPMEV, '\\n')\n",
    "\n",
    "#WTWT + PWT\n",
    "WTWTPWTCE=1-MMPMCE\n",
    "print(WTWTPWTCE)"
   ]
  },
  {
   "cell_type": "markdown",
   "metadata": {},
   "source": [
    "### ReLPS EJECTION"
   ]
  },
  {
   "cell_type": "code",
   "execution_count": 36,
   "metadata": {},
   "outputs": [],
   "source": [
    "#EJECTION wt/WT\n",
    "T1= ufloat(2, 1)\n",
    "T2= ufloat(3, 1)\n",
    "T3= ufloat(1, 1)\n",
    "Tm=(T1+T2+T3)/3\n",
    "#print(WTm)\n",
    "#EBWT ejection of wt/WT on E.coli B\n",
    "EBWT=Tm*1E5*1000/4\n",
    "#print(EBWT,'\\n')\n",
    "\n",
    "\n",
    "CT1= ufloat(0, 0)\n",
    "CT2= ufloat(0, 0)\n",
    "CT3= ufloat(0, 0)\n",
    "CTm=(CT1+CT2+CT3)/3\n",
    "#print(CWTm)\n",
    "#ECWT ejection of wt/WT on rfaC weighted by EOP\n",
    "ECWT=CTm*1E2*1000/4*EOP1\n",
    "#print(ECWT)"
   ]
  },
  {
   "cell_type": "code",
   "execution_count": 37,
   "metadata": {},
   "outputs": [],
   "source": [
    "#EJECTION mut/MUT\n",
    "T1= ufloat(0, 0)\n",
    "T2= ufloat(0, 0)\n",
    "T3= ufloat(0, 2)\n",
    "Tm=(T1+T2+T3)/3\n",
    "#print(WTm)\n",
    "EBM=Tm*1E0*1000/4\n",
    "#print(EBM,'\\n')\n",
    "\n",
    "\n",
    "CT1= ufloat(0, 0)\n",
    "CT2= ufloat(0, 0)\n",
    "CT3= ufloat(0, 0)\n",
    "CTm=(CT1+CT2+CT3)/3\n",
    "#print(CWTm)\n",
    "ECM=CTm*1E2*1000/4\n",
    "#print(ECM)"
   ]
  },
  {
   "cell_type": "code",
   "execution_count": 38,
   "metadata": {},
   "outputs": [],
   "source": [
    "#EJECTION C-E\n",
    "T1= ufloat(7, 3)\n",
    "T2= ufloat(7, 3)\n",
    "T3= ufloat(9, 3)\n",
    "Tm=(T1+T2+T3)/3\n",
    "#print(WTm)\n",
    "EBCE=Tm*1E3*1000/4\n",
    "#print(EBCE,'\\n')\n",
    "\n",
    "\n",
    "CT1= ufloat(0, 0)\n",
    "CT2= ufloat(0, 0)\n",
    "CT3= ufloat(0, 0)\n",
    "CTm=(CT1+CT2+CT3)/3\n",
    "#print(CWTm)\n",
    "ECCE=CTm*1E2*1000/4*EOP1\n",
    "#print(ECCE)"
   ]
  },
  {
   "cell_type": "code",
   "execution_count": 39,
   "metadata": {},
   "outputs": [],
   "source": [
    "#EJECTION E-V\n",
    "T1= ufloat(5, 3)\n",
    "T2= ufloat(7, 3)\n",
    "T3= ufloat(8, 2)\n",
    "Tm=(T1+T2+T3)/3\n",
    "#print(WTm)\n",
    "EBEV=Tm*1E4*1000/4\n",
    "#print(EBEV,'\\n')\n",
    "\n",
    "\n",
    "CT1= ufloat(0, 0)\n",
    "CT2= ufloat(0, 0)\n",
    "CT3= ufloat(0, 0)\n",
    "CTm=(CT1+CT2+CT3)/3\n",
    "#print(CWTm)\n",
    "ECEV=CTm*1E2*1000/4*EOP1\n",
    "#print(ECEV)"
   ]
  },
  {
   "cell_type": "code",
   "execution_count": 74,
   "metadata": {},
   "outputs": [
    {
     "name": "stdout",
     "output_type": "stream",
     "text": [
      "0.11+/-0.04\n",
      "the ratio of wt/WT (RWTWTWTM) =   is :  0.059+/-0.028\n"
     ]
    }
   ],
   "source": [
    "#calculate the amount of wt/WT + mut/WT (WTWTWTM)\n",
    "WTWTWTM=(EBCE/EBEV)\n",
    "print(WTWTWTM)\n",
    "#verify the ratio RWTWTWTM = (wt/WT)\n",
    "RWTWTWTM= WTWTWTM*WTWTPWTCE\n",
    "print('the ratio of wt/WT (RWTWTWTM) =   is : ', RWTWTWTM)"
   ]
  },
  {
   "cell_type": "markdown",
   "metadata": {},
   "source": [
    "### E.coli B AMPLIFICATION"
   ]
  },
  {
   "cell_type": "code",
   "execution_count": 42,
   "metadata": {},
   "outputs": [],
   "source": [
    "#Amplification wt/WT\n",
    "T1= ufloat(8, 2)\n",
    "T2= ufloat(4, 1)\n",
    "T3= ufloat(8, 2)\n",
    "Tm=(T1+T2+T3)/3\n",
    "#print(WTm)\n",
    "ABWT=Tm*1E8*1000/4\n",
    "#print(ABWT,'\\n')\n",
    "\n",
    "\n",
    "CT1= ufloat(5, 5)\n",
    "CT2= ufloat(6, 5)\n",
    "CT3= ufloat(5, 5)\n",
    "CTm=(CT1+CT2+CT3)/3\n",
    "#print(CWTm)\n",
    "ACWT=CTm*1E2*1000/4*EOP1\n",
    "#print(ACWT)"
   ]
  },
  {
   "cell_type": "code",
   "execution_count": 43,
   "metadata": {},
   "outputs": [],
   "source": [
    "#Amplification CE\n",
    "T1= ufloat(0.5, 1)\n",
    "T2= ufloat(3, 2)\n",
    "T3= ufloat(4, 2)\n",
    "Tm=(T1+T2+T3)/3\n",
    "#print(WTm)\n",
    "ABCE=Tm*1E8*1000/4\n",
    "#print(ABCE,'\\n')\n",
    "\n",
    "\n",
    "CT1= ufloat(1, 1)\n",
    "CT2= ufloat(1, 1)\n",
    "CT3= ufloat(2, 2)\n",
    "CTm=(CT1+CT2+CT3)/3\n",
    "#print(CWTm)\n",
    "ACCE=CTm*1E4*1000/4*EOP1\n",
    "#print(ACCE)"
   ]
  },
  {
   "cell_type": "code",
   "execution_count": 44,
   "metadata": {},
   "outputs": [],
   "source": [
    "#Amplification EV\n",
    "T1= ufloat(1, 1)\n",
    "T2= ufloat(2, 1)\n",
    "T3= ufloat(1, 1)\n",
    "Tm=(T1+T2+T3)/3\n",
    "#print(WTm)\n",
    "ABEV=Tm*1E9*1000/4\n",
    "#print(ABEV,'\\n')\n",
    "\n",
    "\n",
    "CT1= ufloat(6, 3)\n",
    "CT2= ufloat(5, 3)\n",
    "CT3= ufloat(5, 3)\n",
    "CTm=(CT1+CT2+CT3)/3\n",
    "#print(CWTm)\n",
    "ACEV=CTm*1E2*1000/4*EOP1\n",
    "#print(ACEV)"
   ]
  },
  {
   "cell_type": "code",
   "execution_count": 66,
   "metadata": {},
   "outputs": [],
   "source": [
    "#calculate the ratio of (mut/WT) / (wt/WT) taking into account spontaneous mutant (ACEV/ABEV)\n",
    "MWTWTWT=((ACCE/ABCE)-ACEV/ABEV)\n",
    "#print(MWTWTWT)"
   ]
  },
  {
   "cell_type": "markdown",
   "metadata": {},
   "source": [
    "### Determination of the phage ratio obtained"
   ]
  },
  {
   "cell_type": "code",
   "execution_count": 75,
   "metadata": {},
   "outputs": [
    {
     "name": "stdout",
     "output_type": "stream",
     "text": [
      "The ratio mut/WT is :  (3.4+/-2.8)e-05\n",
      "the ratio wt/WT is: 0.059+/-0.028\n",
      "the ratio wt/MUT is:  (3.4+/-2.8)e-05\n",
      "the ratio mut/MUT is:  0.06+/-0.07\n",
      "the ratio mut/MIX is: 0.43+/-0.24\n",
      "the ratio wt/MIX is:  0.45+/-0.16\n"
     ]
    }
   ],
   "source": [
    "#Calculate the ratio of the 6 different phage types.\n",
    "\n",
    "#The ratio mut/WT is:\n",
    "mutWT = WTWTWTM*(1-1/(1+MWTWTWT))\n",
    "print('The ratio mut/WT is : ', mutWT)\n",
    "\n",
    "#the ratio wt/WT is:\n",
    "#wtWT= WTWTWTM/(1+MWTWTWT)   \n",
    "wtWT= WTWTWTM*WTWTPWTCE\n",
    "print('the ratio wt/WT is:', wtWT)\n",
    "\n",
    "#the ratio wt/MUT is:\n",
    "wtMUT = mutWT*(MMPMCE/WTWTPWTCE)\n",
    "print('the ratio wt/MUT is: ', mutWT)\n",
    "\n",
    "#the ratio mut/MUT is:\n",
    "mutMUT=wtWT*(WTWTPWTCE/MMPMCE)\n",
    "print('the ratio mut/MUT is: ', mutMUT)\n",
    "\n",
    "#the ratio mut/MIX is:\n",
    "mutMIX=MMPMCE-mutMUT\n",
    "print('the ratio mut/MIX is:', mutMIX)\n",
    "\n",
    "#the ratio wt/MIX is:\n",
    "wtMIX=1-(mutMIX+mutMUT+wtMUT+wtWT+mutWT)\n",
    "print('the ratio wt/MIX is: ', wtMIX)"
   ]
  },
  {
   "cell_type": "code",
   "execution_count": 71,
   "metadata": {},
   "outputs": [
    {
     "name": "stdout",
     "output_type": "stream",
     "text": [
      "stark asymetry:  (3.4+/-2.6)e+03\n",
      "the ratio R = (wt/WT) x (wt/WT + mut/WT) is :  0.059+/-0.028\n"
     ]
    }
   ],
   "source": [
    "#stark asymetry:\n",
    "ASYM=wtWT/mutWT\n",
    "print('stark asymetry: ', ASYM)\n",
    "\n",
    "#verify the ratio R = (wt/WT) / (wt/WT + mut/WT)\n",
    "R= WTWTWTM*WTWTPWTCE\n",
    "print('the ratio R = (wt/WT) x (wt/WT + mut/WT) is : ', R)"
   ]
  },
  {
   "cell_type": "code",
   "execution_count": null,
   "metadata": {},
   "outputs": [],
   "source": []
  }
 ],
 "metadata": {
  "kernelspec": {
   "display_name": "Python 3",
   "language": "python",
   "name": "python3"
  },
  "language_info": {
   "codemirror_mode": {
    "name": "ipython",
    "version": 3
   },
   "file_extension": ".py",
   "mimetype": "text/x-python",
   "name": "python",
   "nbconvert_exporter": "python",
   "pygments_lexer": "ipython3",
   "version": "3.7.7"
  }
 },
 "nbformat": 4,
 "nbformat_minor": 4
}
