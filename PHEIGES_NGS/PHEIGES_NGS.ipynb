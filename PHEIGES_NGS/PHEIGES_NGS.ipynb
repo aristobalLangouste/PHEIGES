{
 "cells": [
  {
   "cell_type": "markdown",
   "metadata": {},
   "source": [
    "### Antoine Levrier\n",
    "*PHEIGES, all-cell-free phage synthesis and selection from engineered genomes*"
   ]
  },
  {
   "cell_type": "markdown",
   "metadata": {},
   "source": [
    "# Importing necessary libraries"
   ]
  },
  {
   "cell_type": "code",
   "execution_count": 1,
   "metadata": {},
   "outputs": [],
   "source": [
    "import matplotlib.pyplot as plt\n",
    "import pandas as pd\n",
    "import numpy as np\n",
    "import statistics"
   ]
  },
  {
   "cell_type": "markdown",
   "metadata": {},
   "source": [
    "### this script takes as entry the refined files resulting from NGS data analysis on Galaxy (https://usegalaxy.org/) as described in the material and methods.\n"
   ]
  },
  {
   "cell_type": "code",
   "execution_count": 36,
   "metadata": {},
   "outputs": [
    {
     "data": {
      "text/html": [
       "<div>\n",
       "<style scoped>\n",
       "    .dataframe tbody tr th:only-of-type {\n",
       "        vertical-align: middle;\n",
       "    }\n",
       "\n",
       "    .dataframe tbody tr th {\n",
       "        vertical-align: top;\n",
       "    }\n",
       "\n",
       "    .dataframe thead th {\n",
       "        text-align: right;\n",
       "    }\n",
       "</style>\n",
       "<table border=\"1\" class=\"dataframe\">\n",
       "  <thead>\n",
       "    <tr style=\"text-align: right;\">\n",
       "      <th></th>\n",
       "      <th>POS</th>\n",
       "      <th>REF</th>\n",
       "      <th>ALT</th>\n",
       "      <th>REF_DP</th>\n",
       "      <th>REF_RV</th>\n",
       "      <th>REF_QUAL</th>\n",
       "      <th>ALT_DP</th>\n",
       "      <th>ALT_RV</th>\n",
       "      <th>ALT_QUAL</th>\n",
       "      <th>ALT_FREQ</th>\n",
       "      <th>TOTAL_DP</th>\n",
       "      <th>PVAL</th>\n",
       "      <th>PASS</th>\n",
       "      <th>GFF_FEATURE</th>\n",
       "      <th>REF_CODON</th>\n",
       "      <th>REF_AA</th>\n",
       "      <th>ALT_CODON</th>\n",
       "      <th>ALT_AA</th>\n",
       "    </tr>\n",
       "  </thead>\n",
       "  <tbody>\n",
       "    <tr>\n",
       "      <th>0</th>\n",
       "      <td>1</td>\n",
       "      <td>g</td>\n",
       "      <td>T</td>\n",
       "      <td>618412</td>\n",
       "      <td>12</td>\n",
       "      <td>33</td>\n",
       "      <td>95</td>\n",
       "      <td>0</td>\n",
       "      <td>32</td>\n",
       "      <td>0.000154</td>\n",
       "      <td>618616</td>\n",
       "      <td>1.0</td>\n",
       "      <td>False</td>\n",
       "      <td>NaN</td>\n",
       "      <td>NaN</td>\n",
       "      <td>NaN</td>\n",
       "      <td>NaN</td>\n",
       "      <td>NaN</td>\n",
       "    </tr>\n",
       "    <tr>\n",
       "      <th>1</th>\n",
       "      <td>1</td>\n",
       "      <td>g</td>\n",
       "      <td>A</td>\n",
       "      <td>618412</td>\n",
       "      <td>12</td>\n",
       "      <td>33</td>\n",
       "      <td>89</td>\n",
       "      <td>0</td>\n",
       "      <td>33</td>\n",
       "      <td>0.000144</td>\n",
       "      <td>618616</td>\n",
       "      <td>1.0</td>\n",
       "      <td>False</td>\n",
       "      <td>NaN</td>\n",
       "      <td>NaN</td>\n",
       "      <td>NaN</td>\n",
       "      <td>NaN</td>\n",
       "      <td>NaN</td>\n",
       "    </tr>\n",
       "    <tr>\n",
       "      <th>2</th>\n",
       "      <td>1</td>\n",
       "      <td>g</td>\n",
       "      <td>C</td>\n",
       "      <td>618412</td>\n",
       "      <td>12</td>\n",
       "      <td>33</td>\n",
       "      <td>20</td>\n",
       "      <td>0</td>\n",
       "      <td>33</td>\n",
       "      <td>0.000032</td>\n",
       "      <td>618616</td>\n",
       "      <td>1.0</td>\n",
       "      <td>False</td>\n",
       "      <td>NaN</td>\n",
       "      <td>NaN</td>\n",
       "      <td>NaN</td>\n",
       "      <td>NaN</td>\n",
       "      <td>NaN</td>\n",
       "    </tr>\n",
       "    <tr>\n",
       "      <th>3</th>\n",
       "      <td>2</td>\n",
       "      <td>g</td>\n",
       "      <td>T</td>\n",
       "      <td>612284</td>\n",
       "      <td>11</td>\n",
       "      <td>33</td>\n",
       "      <td>54</td>\n",
       "      <td>0</td>\n",
       "      <td>32</td>\n",
       "      <td>0.000088</td>\n",
       "      <td>612386</td>\n",
       "      <td>1.0</td>\n",
       "      <td>False</td>\n",
       "      <td>NaN</td>\n",
       "      <td>NaN</td>\n",
       "      <td>NaN</td>\n",
       "      <td>NaN</td>\n",
       "      <td>NaN</td>\n",
       "    </tr>\n",
       "    <tr>\n",
       "      <th>4</th>\n",
       "      <td>2</td>\n",
       "      <td>g</td>\n",
       "      <td>A</td>\n",
       "      <td>612284</td>\n",
       "      <td>11</td>\n",
       "      <td>33</td>\n",
       "      <td>39</td>\n",
       "      <td>0</td>\n",
       "      <td>33</td>\n",
       "      <td>0.000064</td>\n",
       "      <td>612386</td>\n",
       "      <td>1.0</td>\n",
       "      <td>False</td>\n",
       "      <td>NaN</td>\n",
       "      <td>NaN</td>\n",
       "      <td>NaN</td>\n",
       "      <td>NaN</td>\n",
       "      <td>NaN</td>\n",
       "    </tr>\n",
       "  </tbody>\n",
       "</table>\n",
       "</div>"
      ],
      "text/plain": [
       "   POS REF ALT  REF_DP  REF_RV  REF_QUAL  ALT_DP  ALT_RV  ALT_QUAL  ALT_FREQ  \\\n",
       "0    1   g   T  618412      12        33      95       0        32  0.000154   \n",
       "1    1   g   A  618412      12        33      89       0        33  0.000144   \n",
       "2    1   g   C  618412      12        33      20       0        33  0.000032   \n",
       "3    2   g   T  612284      11        33      54       0        32  0.000088   \n",
       "4    2   g   A  612284      11        33      39       0        33  0.000064   \n",
       "\n",
       "   TOTAL_DP  PVAL   PASS  GFF_FEATURE  REF_CODON  REF_AA  ALT_CODON  ALT_AA  \n",
       "0    618616   1.0  False          NaN        NaN     NaN        NaN     NaN  \n",
       "1    618616   1.0  False          NaN        NaN     NaN        NaN     NaN  \n",
       "2    618616   1.0  False          NaN        NaN     NaN        NaN     NaN  \n",
       "3    612386   1.0  False          NaN        NaN     NaN        NaN     NaN  \n",
       "4    612386   1.0  False          NaN        NaN     NaN        NaN     NaN  "
      ]
     },
     "execution_count": 36,
     "metadata": {},
     "output_type": "execute_result"
    }
   ],
   "source": [
    "#to abtain E1, E2 and E3 run this script by replacing 'E0.xlsx' by 'E1.xlsx', 'E2.xlsx', 'E3.xlsx'.\n",
    "data = pd.read_excel('E0.xlsx')\n",
    "data.head()"
   ]
  },
  {
   "cell_type": "code",
   "execution_count": 37,
   "metadata": {},
   "outputs": [],
   "source": [
    "#importing the data into lists.\n",
    "position= [x for x in data['POS']]\n",
    "ref= [x.upper() for x in data['REF']]\n",
    "mut=[x for x in data['ALT']]\n",
    "alt_freq=[x for x in data['ALT_FREQ']]\n",
    "total_dp=[x for x in data['TOTAL_DP']]\n",
    "#print(mut)"
   ]
  },
  {
   "cell_type": "code",
   "execution_count": 38,
   "metadata": {},
   "outputs": [],
   "source": [
    "#creating a list of list.\n",
    "list=[]\n",
    "for x in range (len(position)):\n",
    "    list.append([position[x], ref[x], mut[x], alt_freq[x], total_dp[x]])\n",
    "#print(list)"
   ]
  },
  {
   "cell_type": "code",
   "execution_count": 39,
   "metadata": {},
   "outputs": [],
   "source": [
    "#curing the list from deletions to keep only substitutions.\n",
    "cleaned_list=[]\n",
    "for x in list:\n",
    "    if x[2]=='A':\n",
    "        cleaned_list.append(x)\n",
    "    elif x[2]=='C':\n",
    "        cleaned_list.append(x)\n",
    "    elif x[2]=='T':\n",
    "        cleaned_list.append(x)\n",
    "    elif x[2]=='G':\n",
    "        cleaned_list.append(x)\n",
    "    else:\n",
    "        pass\n",
    "#print(cleaned_list, len(cleaned_list))"
   ]
  },
  {
   "cell_type": "code",
   "execution_count": 40,
   "metadata": {},
   "outputs": [],
   "source": [
    "#at each posision in the sequence, summing the frequencies of each possible substitution.\n",
    "\n",
    "sum_freq_by_pos = []\n",
    "for x in range (0, len(cleaned_list), 3):\n",
    "    sum_freq= cleaned_list[x][3] + cleaned_list[x+1][3] + cleaned_list[x+2][3]\n",
    "    sum_freq_by_pos.append(sum_freq)\n",
    "\n",
    "#print(sum_freq_by_pos, len(sum_freq_by_pos))"
   ]
  },
  {
   "cell_type": "markdown",
   "metadata": {},
   "source": [
    "### Getting the average mutation frequency accross the whole sequence"
   ]
  },
  {
   "cell_type": "code",
   "execution_count": 41,
   "metadata": {},
   "outputs": [
    {
     "name": "stdout",
     "output_type": "stream",
     "text": [
      "the mean mutation rate across the sequence is:  0.15297556164\n"
     ]
    }
   ],
   "source": [
    "#now I have cleaned_list and sum of the freq for each position in the sequence.\n",
    "#get the mean mutation per sequence\n",
    "mean_mut_seq = statistics.mean(sum_freq_by_pos)*565\n",
    "print('the mean mutation rate across the sequence is: ', mean_mut_seq)"
   ]
  },
  {
   "cell_type": "markdown",
   "metadata": {},
   "source": [
    "### Plotting the mutation frequency at each nucleotide position across the sequence"
   ]
  },
  {
   "cell_type": "code",
   "execution_count": 42,
   "metadata": {},
   "outputs": [
    {
     "data": {
      "image/png": "[encoded data removed]",
      "text/plain": [
       "<Figure size 720x504 with 1 Axes>"
      ]
     },
     "metadata": {
      "needs_background": "light"
     },
     "output_type": "display_data"
    }
   ],
   "source": [
    "#plotting the sum of the substitution frequency at each position of the sequence.\n",
    "x = np.arange(0., 565, 1)\n",
    "Sum_freq_by_pos = [x*566 for x in sum_freq_by_pos]\n",
    "\n",
    "fig, ax = plt.subplots(figsize=(10, 7))\n",
    "plt.plot(x, sum_freq_by_pos, color='gray')\n",
    "\n",
    "ax.set_ylim([0, 0.02])\n",
    "ax.tick_params(axis='y', labelsize=25)\n",
    "\n",
    "ax.set_xlabel('Tip of tail fiber sequence (bp)', fontsize=25, fontweight ='bold')\n",
    "ax.tick_params(axis='x', labelsize=25)\n",
    "ax.set_ylabel('mutation frequency', fontsize=25, fontweight ='bold')\n",
    "\n",
    "#plt.savefig(\"Fig 5c E0.svg\", format='svg')\n",
    "plt.show()"
   ]
  },
  {
   "cell_type": "markdown",
   "metadata": {},
   "source": [
    "### Supplementary Figure 19. Calculating the mean substitution probability table across the sequence for each possible nucleotide substitution."
   ]
  },
  {
   "cell_type": "code",
   "execution_count": 43,
   "metadata": {},
   "outputs": [],
   "source": [
    "#set all the possible nucleotide substitutions probabilities to 0, (e.g. AC corresponds to substitution A-->C and tAC is the total number of A-->C substitutions.)\n",
    "AC, AT, AG = [],[],[]\n",
    "tAC, tAT, tAG =0, 0, 0\n",
    "\n",
    "CA, CT, CG = [],[],[]\n",
    "tCA, tCT, tCG = 0, 0, 0\n",
    "\n",
    "TA, TC, TG = [],[],[]\n",
    "tTA, tTC, tTG = 0, 0, 0\n",
    "\n",
    "GA, GC, GT = [],[],[]\n",
    "tGA, tGC, tGT = 0, 0, 0"
   ]
  },
  {
   "cell_type": "code",
   "execution_count": 44,
   "metadata": {},
   "outputs": [],
   "source": [
    "#Calculate the cummulative number of substitutions across the sequence by multiplying at each position the frequency (alt_freq) by the number of reads of this position (total_dp).\n",
    "i=0\n",
    "for x in cleaned_list:\n",
    "    if x[1]=='A':\n",
    "        if x[2] == 'C':\n",
    "            AC.append(x[3]*x[4])\n",
    "            tAC+=x[4]\n",
    "        elif x[2] == 'T':\n",
    "            AT.append(x[3]*x[4])\n",
    "            tAT+=x[4]\n",
    "        elif x[2] == 'G':\n",
    "            AG.append(x[3]*x[4])\n",
    "            tAG+=x[4]\n",
    "            \n",
    "    if x[1]=='C':\n",
    "        if x[2] == 'A':\n",
    "            CA.append(x[3]*x[4])\n",
    "            tCA+=x[4]\n",
    "        elif x[2] == 'T':\n",
    "            CT.append(x[3]*x[4])\n",
    "            tCT+=x[4]\n",
    "        elif x[2] == 'G':\n",
    "            CG.append(x[3]*x[4])\n",
    "            tCG+=x[4]\n",
    "            \n",
    "    if x[1]=='T':\n",
    "        if x[2] == 'A':\n",
    "            TA.append(x[3]*x[4])\n",
    "            tTA+=x[4]\n",
    "        elif x[2] == 'C':\n",
    "            TC.append(x[3]*x[4])\n",
    "            tTC+=x[4]\n",
    "        elif x[2] == 'G':\n",
    "            TG.append(x[3]*x[4])\n",
    "            tTG+=x[4]\n",
    "            \n",
    "    if x[1]=='G':\n",
    "        if x[2] == 'A':\n",
    "            GA.append(x[3]*x[4])\n",
    "            tGA+=x[4]\n",
    "        elif x[2] == 'C':\n",
    "            GC.append(x[3]*x[4])\n",
    "            tGC+=x[4]\n",
    "        elif x[2] == 'T':\n",
    "            GT.append(x[3]*x[4])\n",
    "            tGT+=x[4]\n",
    "            \n",
    "    i+=1/3"
   ]
  },
  {
   "cell_type": "code",
   "execution_count": 45,
   "metadata": {},
   "outputs": [],
   "source": [
    "#calculate the substitutions probabilities by dividing the cummulative number of substitution weighted by frequency by the total number of substitutions for this substitution in the sequence.\n",
    "pAC = sum(AC)/tAC\n",
    "pAT = sum(AC)/tAT\n",
    "pAG = sum(AC)/tAG\n",
    "\n",
    "pCA = sum(AC)/tCA\n",
    "pCT = sum(AC)/tCT\n",
    "pCG = sum(AC)/tCG\n",
    "\n",
    "pTA = sum(AC)/tTA\n",
    "pTC = sum(AC)/tTC\n",
    "pTG = sum(AC)/tTG\n",
    "\n",
    "pGA = sum(GA)/tGA\n",
    "pGC = sum(GC)/tGC\n",
    "pGT = sum(GT)/tGT\n",
    "\n",
    "#print(pAC, pAT, pAG)\n",
    "#print(tAC, tAT, tAG)"
   ]
  },
  {
   "cell_type": "code",
   "execution_count": 46,
   "metadata": {},
   "outputs": [
    {
     "data": {
      "text/html": [
       "<div>\n",
       "<style scoped>\n",
       "    .dataframe tbody tr th:only-of-type {\n",
       "        vertical-align: middle;\n",
       "    }\n",
       "\n",
       "    .dataframe tbody tr th {\n",
       "        vertical-align: top;\n",
       "    }\n",
       "\n",
       "    .dataframe thead th {\n",
       "        text-align: right;\n",
       "    }\n",
       "</style>\n",
       "<table border=\"1\" class=\"dataframe\">\n",
       "  <thead>\n",
       "    <tr style=\"text-align: right;\">\n",
       "      <th></th>\n",
       "      <th>ref\\mut</th>\n",
       "      <th>A</th>\n",
       "      <th>C</th>\n",
       "      <th>T</th>\n",
       "      <th>G</th>\n",
       "    </tr>\n",
       "  </thead>\n",
       "  <tbody>\n",
       "    <tr>\n",
       "      <th>0</th>\n",
       "      <td>A</td>\n",
       "      <td>-</td>\n",
       "      <td>0.333333</td>\n",
       "      <td>0.333333</td>\n",
       "      <td>0.333333</td>\n",
       "    </tr>\n",
       "    <tr>\n",
       "      <th>1</th>\n",
       "      <td>C</td>\n",
       "      <td>0.333333</td>\n",
       "      <td>-</td>\n",
       "      <td>0.333333</td>\n",
       "      <td>0.333333</td>\n",
       "    </tr>\n",
       "    <tr>\n",
       "      <th>2</th>\n",
       "      <td>T</td>\n",
       "      <td>0.333333</td>\n",
       "      <td>0.333333</td>\n",
       "      <td>-</td>\n",
       "      <td>0.333333</td>\n",
       "    </tr>\n",
       "    <tr>\n",
       "      <th>3</th>\n",
       "      <td>G</td>\n",
       "      <td>0.479846</td>\n",
       "      <td>0.0696675</td>\n",
       "      <td>0.450486</td>\n",
       "      <td>-</td>\n",
       "    </tr>\n",
       "  </tbody>\n",
       "</table>\n",
       "</div>"
      ],
      "text/plain": [
       "  ref\\mut         A          C         T         G\n",
       "0       A         -   0.333333  0.333333  0.333333\n",
       "1       C  0.333333          -  0.333333  0.333333\n",
       "2       T  0.333333   0.333333         -  0.333333\n",
       "3       G  0.479846  0.0696675  0.450486         -"
      ]
     },
     "execution_count": 46,
     "metadata": {},
     "output_type": "execute_result"
    }
   ],
   "source": [
    "#display the probablilities as a dataframe.\n",
    "d = {\n",
    "     'ref\\mut': ['A', 'C', 'T', 'G'],\n",
    "     'A': ['-', pCA/(pCA+pCT+pCG), pTA/(pTA+pTC+pTG), pGA/(pGA+pGC+pGT)],\n",
    "     'C': [pAC/(pAC+pAT+pAG), '-', pTC/(pTA+pTC+pTG), pGC/(pGA+pGC+pGT)],\n",
    "     'T': [pAT/(pAC+pAT+pAG), pCT/(pCA+pCT+pCG), '-',pGT/(pGA+pGC+pGT)],\n",
    "     'G': [pAG/(pAC+pAT+pAG), pCG/(pCA+pCT+pCG), pTG/(pTA+pTC+pTG), '-']\n",
    "}\n",
    "E1 = pd.DataFrame(data=d)\n",
    "E1\n",
    "#print( pGA/(pGA+pGC+pGT))"
   ]
  },
  {
   "cell_type": "code",
   "execution_count": null,
   "metadata": {},
   "outputs": [],
   "source": []
  }
 ],
 "metadata": {
  "kernelspec": {
   "display_name": "Python 3",
   "language": "python",
   "name": "python3"
  },
  "language_info": {
   "codemirror_mode": {
    "name": "ipython",
    "version": 3
   },
   "file_extension": ".py",
   "mimetype": "text/x-python",
   "name": "python",
   "nbconvert_exporter": "python",
   "pygments_lexer": "ipython3",
   "version": "3.7.7"
  }
 },
 "nbformat": 4,
 "nbformat_minor": 4
}
